{
 "cells": [
  {
   "cell_type": "code",
   "execution_count": 1,
   "id": "914ca217",
   "metadata": {},
   "outputs": [
    {
     "name": "stdout",
     "output_type": "stream",
     "text": [
      "✅ Data saved as funnel_data.csv\n"
     ]
    }
   ],
   "source": [
    "import pandas as pd\n",
    "import numpy as np\n",
    "from faker import Faker\n",
    "import random\n",
    "\n",
    "# Initialize Faker and seed for reproducibility\n",
    "fake = Faker()\n",
    "np.random.seed(42)\n",
    "\n",
    "# Parameters\n",
    "n_users = 10000\n",
    "channels = ['Google', 'Meta', 'LinkedIn', 'Organic']\n",
    "variants = ['A', 'B']\n",
    "device_types = ['Desktop', 'Mobile', 'Tablet']\n",
    "regions = ['Europe', 'North America', 'Asia', 'South America']\n",
    "\n",
    "# Conversion rates\n",
    "view_rate = 0.85\n",
    "signup_rate = 0.30\n",
    "purchase_rate = 0.20\n",
    "\n",
    "# Simulate user funnel data\n",
    "users = []\n",
    "for i in range(n_users):\n",
    "    user_id = f\"user_{i+1}\"\n",
    "    channel = np.random.choice(channels, p=[0.4, 0.3, 0.2, 0.1]) # probability distribution of channels (e.g 40% chance of Google)\n",
    "    variant = np.random.choice(variants)\n",
    "    device = np.random.choice(device_types, p=[0.5, 0.4, 0.1])\n",
    "    region = np.random.choice(regions, p=[0.5, 0.2, 0.2, 0.1])\n",
    "    clicked_at = fake.date_time_between(start_date='-30d', end_date='now')\n",
    "\n",
    "    # Funnel logic\n",
    "    viewed_lp = np.random.rand() < view_rate\n",
    "    signed_up = viewed_lp and (np.random.rand() < signup_rate)\n",
    "    purchased = signed_up and (np.random.rand() < purchase_rate)\n",
    "\n",
    "    # Revenue and ad cost\n",
    "    revenue = np.round(np.random.uniform(50, 200), 2) if purchased else 0.0\n",
    "    ad_cost = np.round(np.random.uniform(0.5, 5.0), 2) if channel != 'Organic' else 0.0\n",
    "\n",
    "    users.append([\n",
    "        user_id, channel, variant, clicked_at, device, region,\n",
    "        int(viewed_lp), int(signed_up), int(purchased),\n",
    "        revenue, ad_cost\n",
    "    ])\n",
    "\n",
    "# Create DataFrame\n",
    "columns = [\n",
    "    'user_id', 'channel', 'variant', 'clicked_at', 'device_type', 'region',\n",
    "    'viewed_lp', 'signed_up', 'purchased', 'revenue', 'ad_cost'\n",
    "]\n",
    "df = pd.DataFrame(users, columns=columns)\n",
    "\n",
    "# Save to CSV\n",
    "df.to_csv(\"funnel_data.csv\", index=False)\n",
    "\n",
    "# --> creates the marketing funnel data we will work with later in this project and use for further analysis\n"
   ]
  },
  {
   "cell_type": "code",
   "execution_count": null,
   "id": "9bad74a1",
   "metadata": {},
   "outputs": [],
   "source": []
  }
 ],
 "metadata": {
  "kernelspec": {
   "display_name": "Python 3.12",
   "language": "python",
   "name": "py312"
  },
  "language_info": {
   "codemirror_mode": {
    "name": "ipython",
    "version": 3
   },
   "file_extension": ".py",
   "mimetype": "text/x-python",
   "name": "python",
   "nbconvert_exporter": "python",
   "pygments_lexer": "ipython3",
   "version": "3.12.1"
  }
 },
 "nbformat": 4,
 "nbformat_minor": 5
}
